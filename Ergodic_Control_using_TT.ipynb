{
 "cells": [
  {
   "cell_type": "markdown",
   "metadata": {},
   "source": [
    " Author: Suhan Shetty (suhan.shetty@idiap.ch | suhan.shetty@epfl.ch)\n",
    " \n",
    " Reference: \"Ergodic Exploration using Tensor Train: Applications in Insertion Tasks\", Suhan Shetty, Joao Silverio, and Sylvain Calinon"
   ]
  },
  {
   "cell_type": "code",
   "execution_count": 1,
   "metadata": {},
   "outputs": [],
   "source": [
    "# Dependency: https://github.com/oseledets/ttpy\n",
    "!pip install ttpy\n",
    "# Note: Make sure gfortran(or any other fortran compiler) is installed in your system before executing the above package"
   ]
  },
  {
   "cell_type": "code",
   "execution_count": 2,
   "metadata": {},
   "outputs": [],
   "source": [
    "import numpy as np\n",
    "import scipy\n",
    "from scipy.stats import ortho_group\n",
    "import scipy.integrate as integrate\n",
    "from mpl_toolkits.mplot3d import Axes3D\n",
    "from matplotlib import pyplot as plt\n",
    "import tt\n",
    "from tt import riemannian\n",
    "from tt.cross import rect_cross as tt_cross\n",
    "import time\n",
    "from tqdm import tqdm # for-loop progress bar"
   ]
  },
  {
   "cell_type": "code",
   "execution_count": 3,
   "metadata": {},
   "outputs": [
    {
     "name": "stdout",
     "output_type": "stream",
     "text": [
      "Number of Fourier coefficients:390625\n"
     ]
    }
   ],
   "source": [
    "# State space description:\n",
    "\n",
    "d = 8 # dimension of the state space (the hyperparameters are set for cases d<15)\n",
    "\n",
    "# Number of basis functions in each dimension:\n",
    "K0 = 5 # (recommended) 3 to 5 is enough for most practical usescases. A larger K will demand noisy trajectory and it will\n",
    "# demand more accurate integration scheme for ttWt in the control loop. Larger K*d demands larger rmax_ (in the control loop)\n",
    "# which would slow down the control loop. \n",
    "K = np.array([K0]*d)\n",
    "\n",
    "# State space geometry: [0,L]^d\n",
    "L0 = 1.0 \n",
    "L = np.array([L0]*d) # Length of each axis\n",
    "Lmin = 0*L \n",
    "\n",
    "print(\"Number of Fourier coefficients:{}\".format(np.prod(K)))\n"
   ]
  },
  {
   "cell_type": "code",
   "execution_count": 4,
   "metadata": {},
   "outputs": [],
   "source": [
    "# Reference probability distribution (GMM) parameters\n",
    "\n",
    "nmix = 2 # number of mixture components\n",
    "\n",
    "# Generate randomly mixture coefficients, mean, and covariance of th GMM\n",
    "c = np.random.uniform(0.25,0.75,nmix)\n",
    "c = c/np.sum(c) \n",
    "mu = np.empty([nmix,d])\n",
    "sigma = np.empty([nmix,d,d])\n",
    "for j in range(nmix):\n",
    "    mu[j,:] = np.random.uniform(0.25*L0,+0.75*L0,d)\n",
    "    Q = ortho_group.rvs(dim=d)\n",
    "    s = np.random.uniform(0.01,0.02,d)\n",
    "    S = np.diag(s)\n",
    "    sigma[j,:,:] = Q@S@Q.T"
   ]
  },
  {
   "cell_type": "code",
   "execution_count": 5,
   "metadata": {},
   "outputs": [
    {
     "name": "stdout",
     "output_type": "stream",
     "text": [
      "Mixture Coefficients, c:  [0.4941305 0.5058695]\n",
      "\n",
      "Mean, mu:\n",
      "  [[0.26802575 0.48087135 0.41921288 0.57668639 0.59627787 0.34746363\n",
      "  0.73462458 0.59225184]\n",
      " [0.6332977  0.42546864 0.40825453 0.59710605 0.5774636  0.55526983\n",
      "  0.62747373 0.27797991]]\n"
     ]
    }
   ],
   "source": [
    "print(\"Mixture Coefficients, c: \",c)\n",
    "print(\"\\nMean, mu:\\n \",mu)"
   ]
  },
  {
   "cell_type": "code",
   "execution_count": 6,
   "metadata": {},
   "outputs": [],
   "source": [
    "# GMM definition (reference probability distribution)\n",
    "def p(x):\n",
    "    result = 0 \n",
    "    for k in range(nmix):\n",
    "        n_coef = (np.linalg.det(sigma[k,:,:])*(2*np.pi)**(d))**(-0.5)\n",
    "        l = 0.5*(x-mu[k,:])@np.linalg.inv(sigma[k,:,:])@(x-mu[k,:]).T\n",
    "        result = result + c[k]*n_coef*np.exp(-l)\n",
    "    return result\n",
    "\n",
    "\n",
    "# Function to keep the trajectory within the ergodic space\n",
    "def pull2centre(x, alpha=30, c=L/20):\n",
    "    '''\n",
    "    c: defines the boundary at which the correction velocity to pull back the systenm\\\n",
    "    to ergodic space activates, smoothly\n",
    "    alpha: determines the smoothness \n",
    "    '''\n",
    "    c1 = 1*c\n",
    "    c2 = L-c1\n",
    "    weight = (np.tanh(alpha*(x-c1)))/2 + (np.tanh(alpha*(c2-x)))/2\n",
    "    dx = -np.tanh(alpha*(x-c1))/2 +(np.tanh(alpha*(c2-x)))/2\n",
    "    return weight, dx\n",
    "\n",
    "\n",
    "# id=1\n",
    "# t = np.linspace(-1,2,500)\n",
    "# x = np.random.rand(500,d)\n",
    "# x[:,id]=t\n",
    "# sq = 0*x\n",
    "# pl = 0*x\n",
    "# ct = -1\n",
    "# for x_ in x:\n",
    "#     ct+=1\n",
    "#     sq[ct,:], pl[ct,:]= pull2centre(x_)\n",
    "\n",
    "# plt.plot(t,sq[:,id],\"--b\")\n",
    "# plt.plot(t,pl[:,id],\"--r\")"
   ]
  },
  {
   "cell_type": "code",
   "execution_count": 7,
   "metadata": {},
   "outputs": [],
   "source": [
    "# Define the Fourier basis in tensor-train format\n",
    "\n",
    "# Define the elmental basis vector (y is a scalar)\n",
    "Phi  = lambda y, i: np.array([np.cos(np.pi*y*k/L[i])for k in range(K[i])])\n",
    "\n",
    "\n",
    "# Define derivative of elemental basis vector phi :\n",
    "DPhi = lambda y, i: (-np.pi/L[i])*np.array([(k)*np.sin(np.pi*y*k/L[i])for k in range(K[i])])\n",
    "\n",
    "# The followinf function Gives the basis functions for the domain as a tensor in TT fomat and its gradient\n",
    "# as a rank-1 tensor in TT at any given point x \n",
    "def tt_phi_dphi(x):\n",
    "    d = len(x)\n",
    "    _Phi = [Phi(x[i],i).reshape(1,-1,1) for i in range(d)]\n",
    "    _ttPHI = tt.vector.from_list(_Phi)\n",
    "    _DPhi = [DPhi(x[i],i) for i in range(d)]\n",
    "    _ttDPHI = []\n",
    "    for i in range(d):\n",
    "        tmp = _Phi[:]\n",
    "        tmp[i] = _DPhi[i].reshape(1,-1,1)\n",
    "        tt_ = tt.vector.from_list(tmp)\n",
    "        _ttDPHI.append(tt_)\n",
    "    return _ttPHI, _ttDPHI    \n",
    "        "
   ]
  },
  {
   "cell_type": "markdown",
   "metadata": {},
   "source": [
    "### Pre-processing"
   ]
  },
  {
   "cell_type": "code",
   "execution_count": 8,
   "metadata": {},
   "outputs": [
    {
     "name": "stdout",
     "output_type": "stream",
     "text": [
      "Computing Fourier Coefficients, ttW: \n",
      "swp: 0/19 er_rel = 1.4e+06 er_abs = 7.8e+03 erank = 3.0 fun_eval: 560\n",
      "swp: 1/19 er_rel = 1.7e-01 er_abs = 9.7e-04 erank = 5.5 fun_eval: 2760\n",
      "swp: 2/19 er_rel = 6.9e-01 er_abs = 5.6e-03 erank = 8.2 fun_eval: 8540\n",
      "swp: 3/19 er_rel = 1.7e-01 er_abs = 1.4e-03 erank = 12.4 fun_eval: 21130\n",
      "swp: 4/19 er_rel = 7.5e-02 er_abs = 6.1e-04 erank = 17.1 fun_eval: 47170\n",
      "swp: 5/19 er_rel = 3.7e-02 er_abs = 3.0e-04 erank = 21.7 fun_eval: 92150\n",
      "swp: 6/19 er_rel = 1.2e-02 er_abs = 9.7e-05 erank = 26.4 fun_eval: 161010\n",
      "swp: 7/19 er_rel = 4.0e-03 er_abs = 3.2e-05 erank = 31.1 fun_eval: 260330\n",
      "\n",
      "Residual Error:  0.026785722985202653\n",
      "\n",
      "Rank of ttW:  [ 1  4  7 11 17 14  9  5  1]\n",
      "\n",
      "Number of Fourier coefficients:390625\n",
      "\n",
      "Time taken to compute Fourier Coefficient :  0.32806130250295 minutes\n"
     ]
    }
   ],
   "source": [
    "# Find the fourier coefficient for an arbitrary distribution using TT (ref [1])\n",
    "# Use Gaussian Quadrature Rule (GQR) for integration(Ref: https://austingwalters.com/gaussian-quadrature/)\n",
    "t1 = time.time()\n",
    "\n",
    "# Get the discretization points and quadrature weights for the domain [-1,1] (standard pipeline for GQR)\n",
    "N = 10 # 10 is often sufficient. Increase N, if the pdf is not smoothly varying \n",
    "x0,w0 = np.polynomial.legendre.leggauss(N)\n",
    "\n",
    "# transform the discretization points and quadrature weights to the interval [0, L0]:\n",
    "xn = 0.5*L0*(x0+1.0)\n",
    "wn = w0*0.5*L0\n",
    "\n",
    "def P(I): # Discretization of pdf at GQR query points for tt-cross\n",
    "    I = I.astype(int)\n",
    "    result = np.zeros(I.shape[0])\n",
    "    for m,I_ in enumerate(I):\n",
    "        x = xn[I_]\n",
    "        w = np.prod(wn[I_])\n",
    "        result[m]=w*p(x)\n",
    "    return result\n",
    "\n",
    "print(\"Computing Fourier Coefficients, ttW: \")\n",
    "p_init = tt.rand(N,d,r=1)\n",
    "ttP = tt_cross.cross(P,x0=p_init,nswp=20,kickrank=1.1,eps=1E-2) \n",
    "\n",
    "ttP = ttP.round(1E-2) # for optimal TT represenation do TT-rounding    \n",
    "\n",
    "# Normalise approximation error, if any\n",
    "ones_ = tt.vector.from_list([np.ones(N).reshape(1,-1,1)]*d)\n",
    "residual = tt.dot(ones_,ttP)\n",
    "ttP = ttP*(1/residual) \n",
    "print(\"\\nResidual Error: \",1-residual)\n",
    "\n",
    "# The scalar fourier basis at each grid point\n",
    "phi_all = np.zeros([N,K0])\n",
    "for k in range(K0):\n",
    "    phi_all[:,k] = np.cos(np.pi*xn*k/L0)\n",
    "\n",
    "# Determine the Fourier Coefficents in TT format (Use analytical solution from ref [1])\n",
    "P_l = tt.vector.to_list(ttP)\n",
    "W = []\n",
    "for i in range(d):\n",
    "    P_i = P_l[i]\n",
    "    W_i = np.empty([P_i.shape[0],K0, P_i.shape[2]])\n",
    "    for k in range(K0):\n",
    "        W_i[:,k,:] = np.sum(P_i*(phi_all[:,k].reshape(1,-1,1)),axis=1)\n",
    "    W.append(W_i) \n",
    "\n",
    "ttW = tt.vector.from_list(W) # convert list of TT-cores to tensor in TT\n",
    "\n",
    "t2 = time.time()  \n",
    "print(\"\\nRank of ttW: \",ttW.r)\n",
    "print(\"\\nNumber of Fourier coefficients:{}\".format(np.prod(K)))\n",
    "print(\"\\nTime taken to compute the Fourier Coefficients : \",(t2-t1)/60, \"minutes\")"
   ]
  },
  {
   "cell_type": "markdown",
   "metadata": {},
   "source": [
    "Possible reasons for nonzero residual, if any: \n",
    "- pdf has some mass outside the ergodic space: not a problem\n",
    "- the distribution is concentrated in a small region of the space or highly multimodal: increase N\n",
    "    - If pdf is concnetrated in a small regions, smart way to do ergodic control in such case is to decrease the length of the boundary L small enough to contain the pdf."
   ]
  },
  {
   "cell_type": "code",
   "execution_count": 9,
   "metadata": {},
   "outputs": [
    {
     "name": "stdout",
     "output_type": "stream",
     "text": [
      "Computing Optimization Weights: \n",
      "Rank of the weights:  [ 1  6 14 13 13 14 15  5  1]\n",
      "Norm of the weights:  1.0086232866020237\n",
      "Time taken:  0.07904052734375 seconds\n"
     ]
    }
   ],
   "source": [
    "# Find the optimization weights in ergodic metric using cross-approximation\n",
    "def V(I):\n",
    "    I = I.reshape(-1,d)\n",
    "    s = (1.0+d)/2.0 \n",
    "    Vp_ = (1+np.linalg.norm(I,axis=1)**2)**(-s)\n",
    "    return Vp_\n",
    "\n",
    "print(\"Computing Optimization Weights: \")\n",
    "t1=time.time()\n",
    "Vp_init = tt.rand(K,d,r=1)\n",
    "ttV0 = tt_cross.cross(V,x0=Vp_init,nswp=15, kickrank=1,eps=1E-6, verbose=False)\n",
    "t2=time.time()\n",
    "print(\"Rank of the weights: \",ttV0.r)\n",
    "print(\"Norm of the weights: \",ttV0.norm())\n",
    "print(\"Time taken: \", t2-t1,\"seconds\")"
   ]
  },
  {
   "cell_type": "code",
   "execution_count": 10,
   "metadata": {},
   "outputs": [
    {
     "name": "stdout",
     "output_type": "stream",
     "text": [
      "Rank of ttWp: [ 1  4  5  8 10  8  6  4  1] \n",
      "Rank of ttV: [1 2 2 2 2 2 2 2 1] \n"
     ]
    }
   ],
   "source": [
    "# Preprocessing:\n",
    "\n",
    "# Optimally represent Fourier Coef of reference distribution in TT format\n",
    "ttWp = ttW.round(1E-2)# 1E-2 is sufficient in practice\n",
    "\n",
    "# Optimization weights in its optimal representation\n",
    "ttV = ttV0.round(1E-2) # 1E-2 is sufficient in practice\n",
    "\n",
    "print(\"Rank of ttWp: {} \\nRank of ttV: {} \".format(ttWp.r, ttV.r))"
   ]
  },
  {
   "cell_type": "markdown",
   "metadata": {},
   "source": [
    "### Ergodic Control Loop"
   ]
  },
  {
   "cell_type": "code",
   "execution_count": 11,
   "metadata": {},
   "outputs": [
    {
     "name": "stderr",
     "output_type": "stream",
     "text": [
      "100%|██████████| 999/999 [00:26<00:00, 37.52it/s] "
     ]
    },
    {
     "name": "stdout",
     "output_type": "stream",
     "text": [
      "Average time per loop:  0.0169915551537866 sec\n"
     ]
    },
    {
     "name": "stderr",
     "output_type": "stream",
     "text": [
      "\n"
     ]
    }
   ],
   "source": [
    "# Ergodic Control Loop\n",
    "\n",
    "x = L0*np.random.rand(1,d).reshape(-1,) # initial point of the dynamical system, choose any\n",
    "\n",
    "umax = 5 # Maximum velocity of the point-mass system (umax*dt is the maximum displacement). \n",
    "\n",
    "ttWt = 0*tt.rand(ttWp.n,ttWp.d,r=1) #Initialise time-avg stats of dynamical system's trajectory\n",
    "\n",
    "rmax_ = d*int(np.max(ttWp.r)) # Tune this hyperparamer carefully. This is the maximal upper rank of ttWt.If this is low, \n",
    "# there might be convergence issues. If it is too high, the speed of control will be effected.\n",
    "flush_every = 1 # (tune this) Every these many iterations of control loop, TT-rounding will be applied to ttWt\n",
    "\n",
    "\n",
    "# Store the trajectory for plotting\n",
    "traj = [x] \n",
    "erg_metric = []\n",
    "\n",
    "\n",
    "T = 10 # Duration of ergodic exploration\n",
    "dt = 0.01 # Run at 100Hz\n",
    "t_ = np.arange(0,T,dt)\n",
    "ct = 0\n",
    "tavg = 0\n",
    "t_iter = tqdm(t_[1:])\n",
    "for t in t_iter:\n",
    "    ct +=1\n",
    "\n",
    "    t1 = time.time()\n",
    "    \n",
    "    ttPHI, ttDPHI = tt_phi_dphi(x)\n",
    "    delta = ttPHI \n",
    "    ttWt =  ttWt+delta # Euler integration. This increases the rank of ttWt \n",
    "    #ttWt_ = tt.riemannian.projector_splitting_add(ttWt_,delta) # #\n",
    "    # Ideally, the above integration should be used, but due to a bug in ttpy it does not work as expected\n",
    "    \n",
    "    if (ct+1)%flush_every==0: #\n",
    "        # flush ttWt \n",
    "        ttWt = ttWt.round(eps=1E-6,rmax=rmax_)\n",
    "            \n",
    "    ttdW = (ttWt-ttWp*ct) \n",
    "    ttVdW = ttdW*ttV\n",
    "    b = np.array([tt.dot(ttVdW,ttDPHI[i]) for i in range(d)])\n",
    "    bn = np.linalg.norm(b)+1E-10\n",
    "    erg_ctrl = -(umax/bn)*b # control input from ergodic controller(velocity)\n",
    "\n",
    "    # Correction velocity to keep the system in the ergodic space [0,1]x...x[0,1]\n",
    "    weight_,centre_pull = pull2centre(x,alpha=20,c=L/20)\n",
    "    centre_pull = umax*centre_pull/(np.linalg.norm(centre_pull)+1E-8) \n",
    "    \n",
    "    \n",
    "    dx = erg_ctrl*weight_ + centre_pull*(1-weight_)\n",
    "    dx = umax*dx/(np.linalg.norm(dx)+1E-8)\n",
    "    \n",
    "    x = np.clip(x+dt*dx,Lmin,L)\n",
    "    \n",
    "    if bn<1E-9:\n",
    "        print(\"Terminated at \",t)\n",
    "        break\n",
    "\n",
    "   \n",
    "    t2 = time.time()\n",
    "    \n",
    "    # For plotting\n",
    "    dW = ttdW*(1/ct)\n",
    "    err_ = (ttV*dW).norm()\n",
    "    erg_metric.append(err_)\n",
    "    tavg = tavg + (t2-t1)\n",
    "    traj.append(x)\n",
    "\n",
    "print(\"\nAverage time per loop: \", tavg/ct, \"sec\")\n",
    "traj = np.array(traj)"
   ]
  },
  {
   "cell_type": "code",
   "execution_count": 12,
   "metadata": {},
   "outputs": [
    {
     "data": {
      "text/plain": [
       "[<matplotlib.lines.Line2D at 0x7f4b24e00190>]"
      ]
     },
     "execution_count": 12,
     "metadata": {},
     "output_type": "execute_result"
    },
    {
     "data": {
      "image/png": "[encoded data removed]",
      "text/plain": [
       "<Figure size 432x288 with 1 Axes>"
      ]
     },
     "metadata": {
      "needs_background": "light"
     },
     "output_type": "display_data"
    }
   ],
   "source": [
    "plt.plot(erg_metric[:-1])\n",
    "# If the loss is diverging away from zero for very large d or large K0:\n",
    "# increase rmax_ for ttWt.round() (it will slow down the control loop though)"
   ]
  },
  {
   "cell_type": "code",
   "execution_count": 13,
   "metadata": {},
   "outputs": [
    {
     "name": "stdout",
     "output_type": "stream",
     "text": [
      "error in expectation:  0.010823954932442086\n"
     ]
    }
   ],
   "source": [
    "mean_traj = np.sum(traj,axis=0)/traj.shape[0]\n",
    "mean_act = np.sum(mu*c.reshape(-1,1),axis=0)\n",
    "error = np.linalg.norm(mean_traj-mean_act)\n",
    "print(\"error in expectation: \",error)"
   ]
  },
  {
   "cell_type": "markdown",
   "metadata": {},
   "source": [
    "### Plot the results"
   ]
  },
  {
   "cell_type": "code",
   "execution_count": 14,
   "metadata": {},
   "outputs": [
    {
     "name": "stderr",
     "output_type": "stream",
     "text": [
      "Plotting under progress: 100%|██████████| 2/2 [01:02<00:00, 31.38s/it]\n"
     ]
    },
    {
     "data": {
      "image/png": "[encoded data removed]",
      "text/plain": [
       "<Figure size 576x576 with 4 Axes>"
      ]
     },
     "metadata": {},
     "output_type": "display_data"
    }
   ],
   "source": [
    "import random\n",
    "plt.style.use('seaborn-white')\n",
    "fig, ax = plt.subplots(2, 2, sharey=True, sharex=True)\n",
    "fig.set_figheight(8)\n",
    "fig.set_figwidth(8)\n",
    "\n",
    "# Randomly choose axis to plot\n",
    "a = np.arange(d).tolist()\n",
    "random.shuffle(a)\n",
    "ix_ = a[:2]\n",
    "iy_ = a[2:4]\n",
    "\n",
    "\n",
    "m = -1 # number of smaples from the trajectory to plot\n",
    "\n",
    "# Discretize the statespace for plotting\n",
    "dh0 = 0.01\n",
    "n_sections = 20 # number of 2D slices for contour plot (increase it for better accuracy of contour plot )\n",
    "\n",
    "xa = np.arange(Lmin[0],L[0]+dh0,dh0)  # discretize each dimensions\n",
    "n = [len(xa) for i in range(d)] # number of dscrete states along each dimension\n",
    "xx,yy = np.meshgrid(xa,xa)\n",
    "ctx = -1\n",
    "ix_tqdm = tqdm(ix_)\n",
    "for ix in ix_tqdm :\n",
    "    ix_tqdm.set_description(\"Plotting under progress\")\n",
    "    ctx+=1\n",
    "    cty=-1\n",
    "    for iy in iy_:\n",
    "        cty+=1\n",
    "        P_ = np.empty([n[ix],n[iy]])\n",
    "        for i,x_ in enumerate(xa):\n",
    "            for j,y_ in enumerate(xa): \n",
    "                P_[i,j]=0\n",
    "                for a_ in np.linspace(0,1,n_sections): \n",
    "                    x = [a_*L0]*d\n",
    "                    x[ix] = x_\n",
    "                    x[iy] = y_\n",
    "                    P_[i,j] = p(x)+P_[i,j]\n",
    "        \n",
    "        ax[ctx,cty].contourf(xa,xa,P_.T, alpha=0.7)\n",
    "        ax[ctx,cty].plot(traj[0:m,ix],traj[0:m,iy],'-k', linewidth=0.15)\n",
    "        ax[ctx,cty].set_xlabel(\"$x_{}$\".format({str(ix+1)}),fontsize=12)\n",
    "        ax[ctx,cty].set_ylabel(\"$x_{}$\".format({str(iy+1)}),fontsize=12)\n",
    "        ax[ctx,cty].set_xlim([0,L0])\n",
    "        ax[ctx,cty].set_ylim([0,L0])\n",
    "        ax[ctx,cty].set_aspect('equal')\n",
    "        ax[ctx,cty].set_xticks([])\n",
    "        ax[ctx,cty].set_yticks([])\n",
    "\n"
   ]
  },
  {
   "cell_type": "code",
   "execution_count": null,
   "metadata": {},
   "outputs": [],
   "source": []
  },
  {
   "cell_type": "code",
   "execution_count": null,
   "metadata": {},
   "outputs": [],
   "source": []
  }
 ],
 "metadata": {
  "kernelspec": {
   "display_name": "Python 3",
   "language": "python",
   "name": "python3"
  },
  "language_info": {
   "codemirror_mode": {
    "name": "ipython",
    "version": 3
   },
   "file_extension": ".py",
   "mimetype": "text/x-python",
   "name": "python",
   "nbconvert_exporter": "python",
   "pygments_lexer": "ipython3",
   "version": "3.8.3"
  }
 },
 "nbformat": 4,
 "nbformat_minor": 4
}
